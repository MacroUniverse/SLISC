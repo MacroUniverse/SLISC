{
 "cells": [
  {
   "cell_type": "code",
   "execution_count": null,
   "id": "af3d6a5d",
   "metadata": {},
   "outputs": [],
   "source": [
    "#include <unistd.h>\n",
    "chdir(\"/home/addis/github/SLISC\");\n",
    "#include \"SLISC/basic.h\"\n",
    "using namespace slisc;"
   ]
  },
  {
   "cell_type": "code",
   "execution_count": 5,
   "id": "290c2976",
   "metadata": {},
   "outputs": [
    {
     "name": "stdout",
     "output_type": "stream",
     "text": [
      "0.57534822   0.97195437   0.57169366   \n",
      "0.41218491   0.20983426   0.37458732   \n",
      "0.93189157   0.50758796   0.95209355   \n",
      "\n"
     ]
    }
   ],
   "source": [
    "CmatDoub a(3,3);\n",
    "rand(a);\n",
    "disp(a)"
   ]
  }
 ],
 "metadata": {
  "kernelspec": {
   "display_name": "C++11",
   "language": "C++11",
   "name": "xcpp11"
  },
  "language_info": {
   "codemirror_mode": "text/x-c++src",
   "file_extension": ".cpp",
   "mimetype": "text/x-c++src",
   "name": "c++",
   "version": "11"
  }
 },
 "nbformat": 4,
 "nbformat_minor": 5
}
