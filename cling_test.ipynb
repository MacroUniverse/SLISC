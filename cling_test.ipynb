{
 "cells": [
  {
   "cell_type": "code",
   "execution_count": 1,
   "id": "38a12c03",
   "metadata": {},
   "outputs": [],
   "source": [
    "#include <algorithm>\n",
    "#include <climits>\n",
    "#include <cmath>\n",
    "#include <deque>\n",
    "#include <fstream>\n",
    "#include <functional>\n",
    "#include <iostream>\n",
    "#include <limits>\n",
    "#include <list>\n",
    "#include <map>\n",
    "#include <random>\n",
    "#include <set>\n",
    "#include <stack>\n",
    "#include <tuple>\n",
    "#include <unordered_map>\n",
    "#include <unordered_set>\n",
    "#include <utility>\n",
    "#include <vector>\n",
    "\n",
    "using namespace std;"
   ]
  },
  {
   "cell_type": "code",
   "execution_count": 2,
   "id": "e928679a",
   "metadata": {},
   "outputs": [
    {
     "name": "stdout",
     "output_type": "stream",
     "text": [
      "123"
     ]
    }
   ],
   "source": [
    "cout << 123;"
   ]
  },
  {
   "cell_type": "code",
   "execution_count": null,
   "id": "46a1a1ab",
   "metadata": {},
   "outputs": [],
   "source": []
  }
 ],
 "metadata": {
  "kernelspec": {
   "display_name": "C++11",
   "language": "C++11",
   "name": "xcpp11"
  },
  "language_info": {
   "codemirror_mode": "text/x-c++src",
   "file_extension": ".cpp",
   "mimetype": "text/x-c++src",
   "name": "c++",
   "version": "11"
  }
 },
 "nbformat": 4,
 "nbformat_minor": 5
}
